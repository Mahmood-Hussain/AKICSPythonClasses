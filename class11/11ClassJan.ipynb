{
  "cells": [
    {
      "cell_type": "markdown",
      "metadata": {
        "id": "z6lTBFoizTeK"
      },
      "source": [
        "# Operations on Lists / Multi Dimensional Lists\n",
        "1.   Modifying Individual List Elements\n",
        "2.   Deleting an Element\n",
        "\n",
        "Accessing multi-dimensional lists using `for loop`, `while loop`, for loop with range and indices\n"
      ]
    },
    {
      "cell_type": "markdown",
      "metadata": {
        "id": "uKbUUPqh2DI5"
      },
      "source": [
        "Suppose that we are given temperature readings fromthe sensor and sensor somehow is mulfunctioning so it is sometimes unable to get readings. When it is not able to get readings from the atmosphere it simply saves `null` in our database.\n",
        "Given below array of temperature readings can you replace all `null` values by 0?\n",
        "\n",
        "\n",
        "```\n",
        "temperatures = [22, 20, 'null', 21, 20, 18, 'null', 15, 17, 20]\n",
        "```\n",
        "\n"
      ]
    },
    {
      "cell_type": "markdown",
      "metadata": {
        "id": "FQhmYoKHQRkQ"
      },
      "source": [
        "To replace an element in a python list at ith index in a geiven_array the syntax is follows:\n",
        "\n",
        "\n",
        "\n",
        "```\n",
        "given_array[i] = new_value\n",
        "```\n",
        "in the above example `given_array` is the python list given, `i` is the index at which we want to replace the value and new_value is the value that we want to use\n",
        "\n"
      ]
    },
    {
      "cell_type": "code",
      "execution_count": 5,
      "metadata": {
        "colab": {
          "base_uri": "https://localhost:8080/"
        },
        "id": "9MA2_FFsPqeH",
        "outputId": "0da5584a-84f4-44d1-9212-c48acb22ee7b"
      },
      "outputs": [
        {
          "name": "stdout",
          "output_type": "stream",
          "text": [
            "[22, 20, 'null', 21, 20, 18, 'null', 15, 17, 21]\n"
          ]
        }
      ],
      "source": [
        "temperatures = [22, 20, 'null', 21, 20, 18, 'null', 15, 17, 20]\n",
        "temperatures[9] = 21\n",
        "print(temperatures)"
      ]
    },
    {
      "cell_type": "code",
      "execution_count": 4,
      "metadata": {
        "colab": {
          "base_uri": "https://localhost:8080/"
        },
        "id": "wVoNms1d2aaR",
        "outputId": "ba397b5d-ef6a-4bd8-87e4-e9f9a3a1e13b"
      },
      "outputs": [
        {
          "name": "stdout",
          "output_type": "stream",
          "text": [
            "[22, 20, 0, 21, 20, 18, 0, 15, 17, 20]\n"
          ]
        }
      ],
      "source": [
        "temperatures = [22, 20, 'null', 21, 20, 18, 'null', 15, 17, 20]\n",
        "# simple way (manual way)\n",
        "temperatures[2] = 0\n",
        "temperatures[6] = 0\n",
        "print(temperatures)"
      ]
    },
    {
      "cell_type": "markdown",
      "metadata": {
        "id": "Pmf0PaCm3DSX"
      },
      "source": [
        "Exercises\n",
        "\n",
        "1.   use `for loop` to replace the null values with 0\n",
        "2.   replace zeros with mean of the temperatures\n",
        "\n"
      ]
    },
    {
      "cell_type": "code",
      "execution_count": 8,
      "metadata": {
        "colab": {
          "base_uri": "https://localhost:8080/"
        },
        "id": "ZZPs04uBSCfx",
        "outputId": "42295da7-a8f8-43f1-8f73-70fad91af006"
      },
      "outputs": [
        {
          "name": "stdout",
          "output_type": "stream",
          "text": [
            "[22, 20, 0, 21, 20, 18, 0, 15, 17, 20]\n"
          ]
        }
      ],
      "source": [
        "# Q1\n",
        "temperatures = [22, 20, 'null', 21, 20, 18, 'null', 15, 17, 20]\n",
        "for i in range(len(temperatures)):\n",
        "  if temperatures[i] == 'null':\n",
        "    temperatures[i] = 0\n",
        "\n",
        "print(temperatures)"
      ]
    },
    {
      "cell_type": "code",
      "execution_count": 9,
      "metadata": {
        "colab": {
          "base_uri": "https://localhost:8080/"
        },
        "id": "xya9uyQ8SGZ-",
        "outputId": "10c73518-22a5-42d7-9db7-4fbc7bddeef8"
      },
      "outputs": [
        {
          "name": "stdout",
          "output_type": "stream",
          "text": [
            "[22, 20, 15.3, 21, 20, 18, 15.3, 15, 17, 20]\n"
          ]
        }
      ],
      "source": [
        "sum = 0\n",
        "for i in range(len(temperatures)):\n",
        "  sum = sum + temperatures[i]\n",
        "\n",
        "mean = sum / len(temperatures)\n",
        "\n",
        "for i in range(len(temperatures)):\n",
        "  if temperatures[i] == 0:\n",
        "    temperatures[i] = mean\n",
        "\n",
        "print(temperatures)"
      ]
    },
    {
      "cell_type": "markdown",
      "metadata": {
        "id": "C15fzwLhDwzG"
      },
      "source": [
        "Excercises:\n",
        "\n",
        "\n",
        "1.   Given below array remove all vegetables\n",
        "2.   Can you replace these with some other fruit?\n",
        "\n"
      ]
    },
    {
      "cell_type": "code",
      "execution_count": 12,
      "metadata": {
        "id": "RiGpXqjD03ID"
      },
      "outputs": [],
      "source": [
        "fruits = ['potato', 'apple', 'orange', 'guava', 'mango', 'onion', 'pineapple', 'dragon-fruit', 'walnut']"
      ]
    },
    {
      "cell_type": "code",
      "execution_count": 13,
      "metadata": {
        "colab": {
          "base_uri": "https://localhost:8080/"
        },
        "id": "5j8z44gkT0oz",
        "outputId": "16e7443d-e68b-4e5c-b0f5-c8935a7a0a99"
      },
      "outputs": [
        {
          "name": "stdout",
          "output_type": "stream",
          "text": [
            "['kiwi', 'apple', 'orange', 'guava', 'mango', 'peach', 'pineapple', 'dragon-fruit', 'walnut']\n"
          ]
        }
      ],
      "source": [
        "fruits[0] = 'kiwi'\n",
        "fruits[5] = 'peach'\n",
        "print(fruits)"
      ]
    },
    {
      "cell_type": "code",
      "execution_count": 18,
      "metadata": {
        "colab": {
          "base_uri": "https://localhost:8080/"
        },
        "id": "03Y8d74RUdWT",
        "outputId": "b300ad1c-1a03-4c78-b294-cd6c26c2aac5"
      },
      "outputs": [
        {
          "name": "stdout",
          "output_type": "stream",
          "text": [
            "['kiwi', 'apple', 'orange', 'guava', 'mango', 'peach', 'pineapple', 'dragon-fruit', 'walnut']\n"
          ]
        }
      ],
      "source": [
        "fruits = ['potato', 'apple', 'orange', 'guava', 'mango', 'onion', 'pineapple', 'dragon-fruit', 'walnut']\n",
        "vegetables = ['potato', 'cabbage', 'eggplant', 'carrot', 'onion']\n",
        "new_fruits = ['kiwi', 'peach']\n",
        "\n",
        "replaced_idx = 0\n",
        "for i in range(len(fruits)):\n",
        "  # Stop at each element of fruits and check it again every element in the vegetables list\n",
        "  current_fruit = fruits[i]\n",
        "  for j in range(len(vegetables)):\n",
        "    current_vegetable = vegetables[j]\n",
        "    if current_fruit == current_vegetable:\n",
        "      fruits[i] = new_fruits[replaced_idx]\n",
        "      replaced_idx = replaced_idx + 1\n",
        "  \n",
        "print(fruits)"
      ]
    }
  ],
  "metadata": {
    "colab": {
      "provenance": []
    },
    "kernelspec": {
      "display_name": "Python 3",
      "language": "python",
      "name": "python3"
    },
    "language_info": {
      "name": "python",
      "version": "3.10.8 (main, Oct 13 2022, 10:17:43) [Clang 14.0.0 (clang-1400.0.29.102)]"
    },
    "vscode": {
      "interpreter": {
        "hash": "aee8b7b246df8f9039afb4144a1f6fd8d2ca17a180786b69acc140d282b71a49"
      }
    }
  },
  "nbformat": 4,
  "nbformat_minor": 0
}
