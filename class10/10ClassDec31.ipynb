{
  "nbformat": 4,
  "nbformat_minor": 0,
  "metadata": {
    "colab": {
      "provenance": []
    },
    "kernelspec": {
      "name": "python3",
      "display_name": "Python 3"
    },
    "language_info": {
      "name": "python"
    }
  },
  "cells": [
    {
      "cell_type": "markdown",
      "source": [
        "Multi dimensional lists in Python programming language\n",
        "\n",
        "```\n",
        "[\n",
        "    [1, 4, 6]\n",
        "    [6, 9, 0]\n",
        "    [44, 2, 0]\n",
        "]\n",
        "```\n",
        "\n"
      ],
      "metadata": {
        "id": "CjvT5iD4Fkuf"
      }
    },
    {
      "cell_type": "code",
      "execution_count": 2,
      "metadata": {
        "id": "JEOK2w99D5Yt"
      },
      "outputs": [],
      "source": [
        "mat1 = [\n",
        "    [1, 4, 6],\n",
        "    [6, 9, 0],\n",
        "    [44, 2, 0],\n",
        "]"
      ]
    },
    {
      "cell_type": "code",
      "source": [
        "first_ele = mat1[0][0]\n",
        "print(first_ele)"
      ],
      "metadata": {
        "colab": {
          "base_uri": "https://localhost:8080/"
        },
        "id": "w8m1zl5bH79y",
        "outputId": "79af788e-9280-402d-cafc-b1995d508e2c"
      },
      "execution_count": 3,
      "outputs": [
        {
          "output_type": "stream",
          "name": "stdout",
          "text": [
            "1\n"
          ]
        }
      ]
    },
    {
      "cell_type": "code",
      "source": [
        "last_ele = mat1[2][2]\n",
        "print(last_ele)"
      ],
      "metadata": {
        "colab": {
          "base_uri": "https://localhost:8080/"
        },
        "id": "i4M0I57-ILB4",
        "outputId": "88649792-6864-4a5e-c7c8-a6217c4a5bb7"
      },
      "execution_count": 4,
      "outputs": [
        {
          "output_type": "stream",
          "name": "stdout",
          "text": [
            "0\n"
          ]
        }
      ]
    },
    {
      "cell_type": "code",
      "source": [
        "mid = mat1[1][1]\n",
        "print(mid)"
      ],
      "metadata": {
        "colab": {
          "base_uri": "https://localhost:8080/"
        },
        "id": "OH5XpOLnI6oO",
        "outputId": "19e3e1f6-2d97-4804-c767-5ed3bd7478e4"
      },
      "execution_count": 5,
      "outputs": [
        {
          "output_type": "stream",
          "name": "stdout",
          "text": [
            "9\n"
          ]
        }
      ]
    },
    {
      "cell_type": "code",
      "source": [
        "i = 0\n",
        "n = len(mat1)\n",
        "first_ele = mat1[i][0]\n",
        "print(first_ele)"
      ],
      "metadata": {
        "colab": {
          "base_uri": "https://localhost:8080/"
        },
        "id": "NCKy9wWKJB5l",
        "outputId": "a2e41d39-ea21-4df6-9375-ec5bbe30c03f"
      },
      "execution_count": 7,
      "outputs": [
        {
          "output_type": "stream",
          "name": "stdout",
          "text": [
            "1\n"
          ]
        }
      ]
    },
    {
      "cell_type": "code",
      "source": [
        "arr = [10, 1, 2, 4, 55, 22]\n",
        "print(arr[0])\n",
        "print(type(arr[0]))"
      ],
      "metadata": {
        "colab": {
          "base_uri": "https://localhost:8080/"
        },
        "id": "zHzYoAKtOEk4",
        "outputId": "5fcddc32-f183-40a0-994d-1efc05e9aae1"
      },
      "execution_count": 13,
      "outputs": [
        {
          "output_type": "stream",
          "name": "stdout",
          "text": [
            "10\n",
            "<class 'int'>\n"
          ]
        }
      ]
    },
    {
      "cell_type": "code",
      "source": [
        "mat1 = [[1, 4, 6], [8, 9, 0], [44, 2, 0]]\n",
        "print(len(mat1))"
      ],
      "metadata": {
        "colab": {
          "base_uri": "https://localhost:8080/"
        },
        "id": "uRzl6CUzJuh5",
        "outputId": "e60903b1-62eb-41a4-8310-37e37e689a2b"
      },
      "execution_count": 19,
      "outputs": [
        {
          "output_type": "stream",
          "name": "stdout",
          "text": [
            "3\n"
          ]
        }
      ]
    },
    {
      "cell_type": "markdown",
      "source": [
        "## Accessing elements in Matrices/Multi-Dimensional Lists in Python\n",
        "it is simple we just have to give the indices to retrive  a particular sub-list from a given list-of-lists"
      ],
      "metadata": {
        "id": "TbVkKMTaNFmU"
      }
    },
    {
      "cell_type": "code",
      "source": [
        "row_1 = mat1[0] #row 1, sub-list 1, element 1 of matrix/list-of-list\n",
        "# Find the number of elements in row1\n",
        "n = len(row_1)\n",
        "print(row_1)\n",
        "print(type(row_1))\n",
        "print(n)"
      ],
      "metadata": {
        "colab": {
          "base_uri": "https://localhost:8080/"
        },
        "id": "HdN22_iMNDeC",
        "outputId": "a781a61f-7a47-47dc-90ab-be24bafdebb9"
      },
      "execution_count": 17,
      "outputs": [
        {
          "output_type": "stream",
          "name": "stdout",
          "text": [
            "[1, 4, 6]\n",
            "<class 'list'>\n",
            "3\n"
          ]
        }
      ]
    },
    {
      "cell_type": "code",
      "source": [
        "row_1_last_ele = row_1[2]\n",
        "print(row_1_last_ele)"
      ],
      "metadata": {
        "colab": {
          "base_uri": "https://localhost:8080/"
        },
        "id": "xmgrrqWPNpr_",
        "outputId": "f5e850cc-a31b-44f0-cb62-a49cebf468ed"
      },
      "execution_count": 22,
      "outputs": [
        {
          "output_type": "stream",
          "name": "stdout",
          "text": [
            "6\n"
          ]
        }
      ]
    },
    {
      "cell_type": "code",
      "source": [
        "mat1_ele6 = mat1[0][2]\n",
        "print(mat1_ele6)"
      ],
      "metadata": {
        "colab": {
          "base_uri": "https://localhost:8080/"
        },
        "id": "sWgn4crtO2Bk",
        "outputId": "b3d59718-0798-42d6-ef84-69609899ba3f"
      },
      "execution_count": 23,
      "outputs": [
        {
          "output_type": "stream",
          "name": "stdout",
          "text": [
            "6\n"
          ]
        }
      ]
    },
    {
      "cell_type": "code",
      "source": [
        "mat1 = [[1, 4, 6], [8, 9, 0], [44, 2, 0]]\n",
        "# arr = [5, 3, 8]\n",
        "print(len(mat1))"
      ],
      "metadata": {
        "colab": {
          "base_uri": "https://localhost:8080/"
        },
        "id": "p0yzTgDwPrzk",
        "outputId": "e0d9cacd-5ed3-4900-ecc7-8737954f7bc8"
      },
      "execution_count": 24,
      "outputs": [
        {
          "output_type": "stream",
          "name": "stdout",
          "text": [
            "3\n"
          ]
        }
      ]
    },
    {
      "cell_type": "code",
      "source": [
        "arr = [5, 3, 8] # using while loop\n",
        "i = 0\n",
        "while (i < len(arr)):\n",
        "  print(arr[i])\n",
        "  i += 1\n"
      ],
      "metadata": {
        "colab": {
          "base_uri": "https://localhost:8080/"
        },
        "id": "71E5hPEfRjEI",
        "outputId": "36102faf-67b5-46e5-a564-3a0b292159f0"
      },
      "execution_count": 25,
      "outputs": [
        {
          "output_type": "stream",
          "name": "stdout",
          "text": [
            "5\n",
            "3\n",
            "8\n"
          ]
        }
      ]
    },
    {
      "cell_type": "code",
      "source": [
        "arr = [5, 3, 8] # using range, indices\n",
        "n = len(arr)\n",
        "for i in range(0, n):\n",
        "  print(arr[i])"
      ],
      "metadata": {
        "colab": {
          "base_uri": "https://localhost:8080/"
        },
        "id": "JqgNKVpwSMNw",
        "outputId": "98b69215-aa40-439b-9e09-85dcc19562aa"
      },
      "execution_count": 26,
      "outputs": [
        {
          "output_type": "stream",
          "name": "stdout",
          "text": [
            "5\n",
            "3\n",
            "8\n"
          ]
        }
      ]
    },
    {
      "cell_type": "code",
      "source": [
        "mat1 = [[1, 4, 6], [8, 9, 0], [44, 2, 0]]\n",
        "print(len(mat1))"
      ],
      "metadata": {
        "colab": {
          "base_uri": "https://localhost:8080/"
        },
        "id": "Suczj8trSqBa",
        "outputId": "b7d5796d-8ee6-418e-9f27-1a57767c0190"
      },
      "execution_count": 27,
      "outputs": [
        {
          "output_type": "stream",
          "name": "stdout",
          "text": [
            "3\n"
          ]
        }
      ]
    },
    {
      "cell_type": "code",
      "source": [
        "n = len(mat1) # n = 3\n",
        "for i in range(0, n):\n",
        "  print(f'Row {i+1}: {mat1[i]}')"
      ],
      "metadata": {
        "colab": {
          "base_uri": "https://localhost:8080/"
        },
        "id": "wRYJElOYSxGo",
        "outputId": "f2353a13-4026-44fe-ad32-3c6fac89d5be"
      },
      "execution_count": 29,
      "outputs": [
        {
          "output_type": "stream",
          "name": "stdout",
          "text": [
            "Row 1: [1, 4, 6]\n",
            "Row 2: [8, 9, 0]\n",
            "Row 3: [44, 2, 0]\n"
          ]
        }
      ]
    },
    {
      "cell_type": "code",
      "source": [
        "matrix1 = [[1, 4, 6], [8, 9, 0], [44, 2, 0]]\n",
        "rows = len(matrix1) # n = 3\n",
        "for i in range(0, rows):\n",
        "  # 1: Row 1: [1, 4, 6]\n",
        "  row = matrix1[i]\n",
        "  print(f'i={i}')\n",
        "  print(f'Row {i+1}: {matrix1[i]}')"
      ],
      "metadata": {
        "colab": {
          "base_uri": "https://localhost:8080/"
        },
        "id": "xTwVQhs5T7CU",
        "outputId": "f6ce4237-0db3-491a-e83d-4b260ae7d059"
      },
      "execution_count": 33,
      "outputs": [
        {
          "output_type": "stream",
          "name": "stdout",
          "text": [
            "i=0\n",
            "Row 1: [1, 4, 6]\n",
            "i=1\n",
            "Row 2: [8, 9, 0]\n",
            "i=2\n",
            "Row 3: [44, 2, 0]\n"
          ]
        }
      ]
    },
    {
      "cell_type": "code",
      "source": [
        "matrix1 = [[1, 4, 6], [8, 9, 0], [44, 2, 0]]\n",
        "rows = len(matrix1) # n = 3\n",
        "for i in range(0, rows):\n",
        "    row = matrix1[i]\n",
        "    columns = len(row)\n",
        "    print(row)\n",
        "    for j in range(0, columns):\n",
        "        print(row[j], end=\", \")"
      ],
      "metadata": {
        "colab": {
          "base_uri": "https://localhost:8080/"
        },
        "id": "kSEd9n5QTCF7",
        "outputId": "04166aa8-84e1-4912-cd0e-a5670063f5a1"
      },
      "execution_count": 39,
      "outputs": [
        {
          "output_type": "stream",
          "name": "stdout",
          "text": [
            "1, 4, 6, 8, 9, 0, 44, 2, 0, "
          ]
        }
      ]
    },
    {
      "cell_type": "code",
      "source": [
        "matrix1 = [[1, 4, 6], [8, 9, 0], [44, 2, 0]]\n",
        "for i in range(len(matrix1)):\n",
        "  for j in range(len(matrix1[i])):\n",
        "    print(matrix1[i][j], end=\", \")\n",
        "  print('\\n')"
      ],
      "metadata": {
        "colab": {
          "base_uri": "https://localhost:8080/"
        },
        "id": "Mg2TW-0pTY6Z",
        "outputId": "83cd464e-b575-40ee-c4c8-a165e5fc4a94"
      },
      "execution_count": 41,
      "outputs": [
        {
          "output_type": "stream",
          "name": "stdout",
          "text": [
            "1, 4, 6, \n",
            "\n",
            "8, 9, 0, \n",
            "\n",
            "44, 2, 0, \n",
            "\n"
          ]
        }
      ]
    },
    {
      "cell_type": "code",
      "source": [],
      "metadata": {
        "id": "SeIVCm1ybXGU"
      },
      "execution_count": null,
      "outputs": []
    }
  ]
}